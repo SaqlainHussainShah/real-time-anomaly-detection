{
  "nbformat": 4,
  "nbformat_minor": 0,
  "metadata": {
    "colab": {
      "name": "Untitled6.ipynb",
      "provenance": [],
      "collapsed_sections": [],
      "authorship_tag": "ABX9TyMMFXEFhBHRhd2JHBwoC2h1",
      "include_colab_link": true
    },
    "kernelspec": {
      "name": "python3",
      "display_name": "Python 3"
    },
    "accelerator": "GPU"
  },
  "cells": [
    {
      "cell_type": "markdown",
      "metadata": {
        "id": "view-in-github",
        "colab_type": "text"
      },
      "source": [
        "<a href=\"https://colab.research.google.com/github/SaqlainHussainShah/real-time-anomaly-detection/blob/master/length%20used.ipynb\" target=\"_parent\"><img src=\"https://colab.research.google.com/assets/colab-badge.svg\" alt=\"Open In Colab\"/></a>"
      ]
    },
    {
      "cell_type": "code",
      "metadata": {
        "id": "89ykv6rZvj6X",
        "colab_type": "code",
        "colab": {}
      },
      "source": [
        "import numpy as np\n",
        "import pandas as pd\n",
        "import matplotlib.pyplot as plt"
      ],
      "execution_count": 0,
      "outputs": []
    },
    {
      "cell_type": "code",
      "metadata": {
        "id": "THFdZKCgvn1_",
        "colab_type": "code",
        "colab": {
          "base_uri": "https://localhost:8080/",
          "height": 124
        },
        "outputId": "cd6e8860-bad0-4725-af7a-bca3fa0a369c"
      },
      "source": [
        "from google.colab import drive\n",
        "drive.mount('/content/drive')"
      ],
      "execution_count": 2,
      "outputs": [
        {
          "output_type": "stream",
          "text": [
            "Go to this URL in a browser: https://accounts.google.com/o/oauth2/auth?client_id=947318989803-6bn6qk8qdgf4n4g3pfee6491hc0brc4i.apps.googleusercontent.com&redirect_uri=urn%3aietf%3awg%3aoauth%3a2.0%3aoob&response_type=code&scope=email%20https%3a%2f%2fwww.googleapis.com%2fauth%2fdocs.test%20https%3a%2f%2fwww.googleapis.com%2fauth%2fdrive%20https%3a%2f%2fwww.googleapis.com%2fauth%2fdrive.photos.readonly%20https%3a%2f%2fwww.googleapis.com%2fauth%2fpeopleapi.readonly\n",
            "\n",
            "Enter your authorization code:\n",
            "··········\n",
            "Mounted at /content/drive\n"
          ],
          "name": "stdout"
        }
      ]
    },
    {
      "cell_type": "code",
      "metadata": {
        "id": "swBSlr6-vpYV",
        "colab_type": "code",
        "colab": {}
      },
      "source": [
        "\n",
        "import tensorflow as tf\n"
      ],
      "execution_count": 0,
      "outputs": []
    },
    {
      "cell_type": "code",
      "metadata": {
        "id": "ntGwfCKqvqyH",
        "colab_type": "code",
        "colab": {}
      },
      "source": [
        "from tensorflow import keras"
      ],
      "execution_count": 0,
      "outputs": []
    },
    {
      "cell_type": "code",
      "metadata": {
        "id": "rEwg7Qpvv428",
        "colab_type": "code",
        "colab": {}
      },
      "source": [
        "df = pd.read_csv('/content/drive/My Drive/web_tcp_ip.csv')"
      ],
      "execution_count": 0,
      "outputs": []
    },
    {
      "cell_type": "code",
      "metadata": {
        "id": "n2OlXx5owg0Q",
        "colab_type": "code",
        "colab": {}
      },
      "source": [
        "df=df[df.columns[1:]]"
      ],
      "execution_count": 0,
      "outputs": []
    },
    {
      "cell_type": "code",
      "metadata": {
        "id": "92bMJn9-wxJe",
        "colab_type": "code",
        "colab": {
          "base_uri": "https://localhost:8080/",
          "height": 34
        },
        "outputId": "a1d99bb4-03e6-4da3-cc8b-28578c76cb64"
      },
      "source": [
        "len(df)"
      ],
      "execution_count": 89,
      "outputs": [
        {
          "output_type": "execute_result",
          "data": {
            "text/plain": [
              "95433"
            ]
          },
          "metadata": {
            "tags": []
          },
          "execution_count": 89
        }
      ]
    },
    {
      "cell_type": "code",
      "metadata": {
        "id": "68OWkq2qwyLr",
        "colab_type": "code",
        "colab": {}
      },
      "source": [
        "df['time_taken']=df['start_time']-df['end_time']"
      ],
      "execution_count": 0,
      "outputs": []
    },
    {
      "cell_type": "code",
      "metadata": {
        "id": "erkGbmiKwzv-",
        "colab_type": "code",
        "colab": {}
      },
      "source": [
        "def plot_series(time, series, format=\"-\", start=0, end=None):\n",
        "    plt.plot(time[start:end], series[start:end], format)\n",
        "    plt.xlabel(\"Time\")\n",
        "    plt.ylabel(\"Value\")\n",
        "    plt.grid(True) ##https://pandas.pydata.org/pandas-docs/stable/user_guide/indexing.html#returning-a-view-versus-a-copy"
      ],
      "execution_count": 0,
      "outputs": []
    },
    {
      "cell_type": "code",
      "metadata": {
        "id": "ddt9YaWPw151",
        "colab_type": "code",
        "colab": {}
      },
      "source": [
        "df2=df[df.columns[:13]]"
      ],
      "execution_count": 0,
      "outputs": []
    },
    {
      "cell_type": "code",
      "metadata": {
        "id": "rDQbQFiSw3G0",
        "colab_type": "code",
        "colab": {
          "base_uri": "https://localhost:8080/",
          "height": 141
        },
        "outputId": "193e6f30-961a-4ecc-9d85-96c0f4e9b5a9"
      },
      "source": [
        "df2['time']=df['start_time']-df['end_time']"
      ],
      "execution_count": 93,
      "outputs": [
        {
          "output_type": "stream",
          "text": [
            "/usr/local/lib/python3.6/dist-packages/ipykernel_launcher.py:1: SettingWithCopyWarning: \n",
            "A value is trying to be set on a copy of a slice from a DataFrame.\n",
            "Try using .loc[row_indexer,col_indexer] = value instead\n",
            "\n",
            "See the caveats in the documentation: https://pandas.pydata.org/pandas-docs/stable/user_guide/indexing.html#returning-a-view-versus-a-copy\n",
            "  \"\"\"Entry point for launching an IPython kernel.\n"
          ],
          "name": "stderr"
        }
      ]
    },
    {
      "cell_type": "code",
      "metadata": {
        "id": "dQW77x-ow4NX",
        "colab_type": "code",
        "colab": {}
      },
      "source": [
        "df = df2 "
      ],
      "execution_count": 0,
      "outputs": []
    },
    {
      "cell_type": "code",
      "metadata": {
        "id": "-YGG5XQIw5eP",
        "colab_type": "code",
        "colab": {}
      },
      "source": [
        "del df2"
      ],
      "execution_count": 0,
      "outputs": []
    },
    {
      "cell_type": "code",
      "metadata": {
        "id": "Ay459izEw6gB",
        "colab_type": "code",
        "colab": {}
      },
      "source": [
        "def windowed_dataset(series, window_size, batch_size, shuffle_buffer):\n",
        "    series = np.expand_dims(series, axis=-1)\n",
        "    ds = tf.data.Dataset.from_tensor_slices(series)\n",
        "    ds = ds.window(window_size + 1, shift=1, drop_remainder=True)\n",
        "    ds = ds.flat_map(lambda w: w.batch(window_size + 1))\n",
        "    ds = ds.shuffle(shuffle_buffer)\n",
        "    ds = ds.map(lambda w: (w[:-1], w[1:]))\n",
        "    return ds.batch(batch_size).prefetch(1)"
      ],
      "execution_count": 0,
      "outputs": []
    },
    {
      "cell_type": "code",
      "metadata": {
        "id": "UA3IuNYew7ZU",
        "colab_type": "code",
        "colab": {}
      },
      "source": [
        "def model_forecast(model, series, window_size):\n",
        "    ds = tf.data.Dataset.from_tensor_slices(series)\n",
        "    ds = ds.window(window_size, shift=1, drop_remainder=True)\n",
        "    ds = ds.flat_map(lambda w: w.batch(window_size))\n",
        "    ds = ds.batch(64).prefetch(1)\n",
        "    forecast = model.predict(ds)\n",
        "    return forecast"
      ],
      "execution_count": 0,
      "outputs": []
    },
    {
      "cell_type": "code",
      "metadata": {
        "id": "xwm0GZL9w81S",
        "colab_type": "code",
        "colab": {}
      },
      "source": [
        "input_values=df['length']"
      ],
      "execution_count": 0,
      "outputs": []
    },
    {
      "cell_type": "code",
      "metadata": {
        "id": "VohLIDn0w-uQ",
        "colab_type": "code",
        "colab": {}
      },
      "source": [
        "input_values = input_values[:30000]"
      ],
      "execution_count": 0,
      "outputs": []
    },
    {
      "cell_type": "code",
      "metadata": {
        "id": "WamYfpFTw_wu",
        "colab_type": "code",
        "colab": {}
      },
      "source": [
        "time_step = np.arange(30000)\n"
      ],
      "execution_count": 0,
      "outputs": []
    },
    {
      "cell_type": "code",
      "metadata": {
        "id": "PmCNF_9nxA98",
        "colab_type": "code",
        "colab": {}
      },
      "source": [
        "series = np.array(input_values)\n",
        "time = np.array(time_step)"
      ],
      "execution_count": 0,
      "outputs": []
    },
    {
      "cell_type": "code",
      "metadata": {
        "id": "zRr6j13m8dNQ",
        "colab_type": "code",
        "colab": {}
      },
      "source": [
        "series = series/(np.max(series)-np.min(series))"
      ],
      "execution_count": 0,
      "outputs": []
    },
    {
      "cell_type": "code",
      "metadata": {
        "id": "xvmAsARUxCBH",
        "colab_type": "code",
        "colab": {}
      },
      "source": [
        "split_time = 25000\n",
        "time_train = time[:split_time]\n",
        "x_train = series[:split_time]\n",
        "time_valid = time[split_time:]\n",
        "x_valid = series[split_time:]\n",
        "\n",
        "window_size = 512\n",
        "batch_size = 64\n",
        "shuffle_buffer_size = 784"
      ],
      "execution_count": 0,
      "outputs": []
    },
    {
      "cell_type": "code",
      "metadata": {
        "id": "6MQbZKn5xC8l",
        "colab_type": "code",
        "colab": {}
      },
      "source": [
        "# x_train = x_train/(np.max(x_train)-np.min(x_train))\n",
        "# x_valid = x_valid/(np.max(x_train)-np.min(x_train))"
      ],
      "execution_count": 0,
      "outputs": []
    },
    {
      "cell_type": "code",
      "metadata": {
        "id": "zPtyWHnOxEAi",
        "colab_type": "code",
        "colab": {
          "base_uri": "https://localhost:8080/",
          "height": 1000
        },
        "outputId": "45d1ae24-1c6f-46a4-c96b-732941f12d89"
      },
      "source": [
        "\n",
        "np.random.seed(51)\n",
        "window_size = 256\n",
        "batch_size = 64\n",
        "train_set = windowed_dataset(x_train, window_size, batch_size, shuffle_buffer_size)\n",
        "print(train_set)\n",
        "print(x_train.shape)\n",
        "\n",
        "model = tf.keras.models.Sequential([\n",
        "  tf.keras.layers.Conv1D(filters=32, kernel_size=5,\n",
        "                      strides=1, padding=\"causal\",\n",
        "                      activation=\"relu\",\n",
        "                      input_shape=[None, 1]),\n",
        "  tf.keras.layers.LSTM(64, return_sequences=True),\n",
        "  tf.keras.layers.LSTM(32, return_sequences=True),\n",
        "  tf.keras.layers.Dense(32, activation=\"relu\"),\n",
        "  tf.keras.layers.Dense(16, activation=\"relu\"),\n",
        "  keras.layers.Dense(1),\n",
        "  keras.layers.Lambda(lambda x: x * 400)\n",
        "])\n",
        "\n",
        "lr_schedule = tf.keras.callbacks.LearningRateScheduler(\n",
        "    lambda epoch: 1e-8 * 10**(epoch / 20))\n",
        "optimizer = keras.optimizers.SGD(lr=1e-8, momentum=0.9)\n",
        "model.compile(loss=keras.losses.Huber(),\n",
        "              optimizer=optimizer,\n",
        "              metrics=[\"mae\"])\n",
        "history = model.fit(train_set, epochs=64, callbacks=[lr_schedule])"
      ],
      "execution_count": 23,
      "outputs": [
        {
          "output_type": "stream",
          "text": [
            "<PrefetchDataset shapes: ((None, None, 1), (None, None, 1)), types: (tf.float64, tf.float64)>\n",
            "(25000,)\n",
            "Epoch 1/64\n",
            "387/387 [==============================] - 37s 95ms/step - loss: 0.2926 - mae: 0.6052 - lr: 1.0000e-08\n",
            "Epoch 2/64\n",
            "387/387 [==============================] - 37s 95ms/step - loss: 0.2589 - mae: 0.5634 - lr: 1.1220e-08\n",
            "Epoch 3/64\n",
            "387/387 [==============================] - 37s 95ms/step - loss: 0.2426 - mae: 0.5407 - lr: 1.2589e-08\n",
            "Epoch 4/64\n",
            "387/387 [==============================] - 37s 95ms/step - loss: 0.2274 - mae: 0.5157 - lr: 1.4125e-08\n",
            "Epoch 5/64\n",
            "387/387 [==============================] - 37s 95ms/step - loss: 0.2081 - mae: 0.4793 - lr: 1.5849e-08\n",
            "Epoch 6/64\n",
            "387/387 [==============================] - 37s 95ms/step - loss: 0.1860 - mae: 0.4363 - lr: 1.7783e-08\n",
            "Epoch 7/64\n",
            "387/387 [==============================] - 36s 94ms/step - loss: 0.1653 - mae: 0.4018 - lr: 1.9953e-08\n",
            "Epoch 8/64\n",
            "387/387 [==============================] - 36s 94ms/step - loss: 0.1460 - mae: 0.3753 - lr: 2.2387e-08\n",
            "Epoch 9/64\n",
            "387/387 [==============================] - 36s 93ms/step - loss: 0.1301 - mae: 0.3536 - lr: 2.5119e-08\n",
            "Epoch 10/64\n",
            "387/387 [==============================] - 36s 93ms/step - loss: 0.1200 - mae: 0.3402 - lr: 2.8184e-08\n",
            "Epoch 11/64\n",
            "387/387 [==============================] - 36s 93ms/step - loss: 0.1136 - mae: 0.3311 - lr: 3.1623e-08\n",
            "Epoch 12/64\n",
            "387/387 [==============================] - 36s 93ms/step - loss: 0.1089 - mae: 0.3229 - lr: 3.5481e-08\n",
            "Epoch 13/64\n",
            "387/387 [==============================] - 36s 93ms/step - loss: 0.1058 - mae: 0.3172 - lr: 3.9811e-08\n",
            "Epoch 14/64\n",
            "387/387 [==============================] - 36s 93ms/step - loss: 0.1037 - mae: 0.3139 - lr: 4.4668e-08\n",
            "Epoch 15/64\n",
            "387/387 [==============================] - 36s 93ms/step - loss: 0.1022 - mae: 0.3118 - lr: 5.0119e-08\n",
            "Epoch 16/64\n",
            "387/387 [==============================] - 36s 93ms/step - loss: 0.1010 - mae: 0.3103 - lr: 5.6234e-08\n",
            "Epoch 17/64\n",
            "387/387 [==============================] - 36s 93ms/step - loss: 0.1000 - mae: 0.3090 - lr: 6.3096e-08\n",
            "Epoch 18/64\n",
            "387/387 [==============================] - 36s 93ms/step - loss: 0.0990 - mae: 0.3077 - lr: 7.0795e-08\n",
            "Epoch 19/64\n",
            "387/387 [==============================] - 36s 93ms/step - loss: 0.0981 - mae: 0.3065 - lr: 7.9433e-08\n",
            "Epoch 20/64\n",
            "387/387 [==============================] - 36s 93ms/step - loss: 0.0971 - mae: 0.3046 - lr: 8.9125e-08\n",
            "Epoch 21/64\n",
            "387/387 [==============================] - 36s 93ms/step - loss: 0.0956 - mae: 0.3021 - lr: 1.0000e-07\n",
            "Epoch 22/64\n",
            "387/387 [==============================] - 36s 93ms/step - loss: 0.0939 - mae: 0.2992 - lr: 1.1220e-07\n",
            "Epoch 23/64\n",
            "387/387 [==============================] - 36s 93ms/step - loss: 0.0920 - mae: 0.2958 - lr: 1.2589e-07\n",
            "Epoch 24/64\n",
            "387/387 [==============================] - 36s 93ms/step - loss: 0.0899 - mae: 0.2913 - lr: 1.4125e-07\n",
            "Epoch 25/64\n",
            "387/387 [==============================] - 36s 93ms/step - loss: 0.0877 - mae: 0.2855 - lr: 1.5849e-07\n",
            "Epoch 26/64\n",
            "387/387 [==============================] - 36s 93ms/step - loss: 0.0860 - mae: 0.2820 - lr: 1.7783e-07\n",
            "Epoch 27/64\n",
            "387/387 [==============================] - 36s 93ms/step - loss: 0.0845 - mae: 0.2791 - lr: 1.9953e-07\n",
            "Epoch 28/64\n",
            "387/387 [==============================] - 36s 93ms/step - loss: 0.0832 - mae: 0.2766 - lr: 2.2387e-07\n",
            "Epoch 29/64\n",
            "387/387 [==============================] - 36s 93ms/step - loss: 0.0820 - mae: 0.2742 - lr: 2.5119e-07\n",
            "Epoch 30/64\n",
            "387/387 [==============================] - 36s 93ms/step - loss: 0.0809 - mae: 0.2723 - lr: 2.8184e-07\n",
            "Epoch 31/64\n",
            "387/387 [==============================] - 36s 93ms/step - loss: 0.0797 - mae: 0.2701 - lr: 3.1623e-07\n",
            "Epoch 32/64\n",
            "387/387 [==============================] - 36s 93ms/step - loss: 0.0783 - mae: 0.2673 - lr: 3.5481e-07\n",
            "Epoch 33/64\n",
            "387/387 [==============================] - 36s 94ms/step - loss: 0.0765 - mae: 0.2641 - lr: 3.9811e-07\n",
            "Epoch 34/64\n",
            "387/387 [==============================] - 36s 93ms/step - loss: 0.0742 - mae: 0.2601 - lr: 4.4668e-07\n",
            "Epoch 35/64\n",
            "387/387 [==============================] - 36s 93ms/step - loss: 0.0710 - mae: 0.2549 - lr: 5.0119e-07\n",
            "Epoch 36/64\n",
            "387/387 [==============================] - 36s 93ms/step - loss: 0.0672 - mae: 0.2486 - lr: 5.6234e-07\n",
            "Epoch 37/64\n",
            "387/387 [==============================] - 36s 93ms/step - loss: 0.0643 - mae: 0.2445 - lr: 6.3096e-07\n",
            "Epoch 38/64\n",
            "387/387 [==============================] - 36s 94ms/step - loss: 0.0622 - mae: 0.2406 - lr: 7.0795e-07\n",
            "Epoch 39/64\n",
            "387/387 [==============================] - 36s 93ms/step - loss: 0.0610 - mae: 0.2381 - lr: 7.9433e-07\n",
            "Epoch 40/64\n",
            "387/387 [==============================] - 36s 93ms/step - loss: 0.0600 - mae: 0.2361 - lr: 8.9125e-07\n",
            "Epoch 41/64\n",
            "387/387 [==============================] - 36s 93ms/step - loss: 0.0592 - mae: 0.2342 - lr: 1.0000e-06\n",
            "Epoch 42/64\n",
            "387/387 [==============================] - 36s 93ms/step - loss: 0.0584 - mae: 0.2327 - lr: 1.1220e-06\n",
            "Epoch 43/64\n",
            "387/387 [==============================] - 36s 93ms/step - loss: 0.0577 - mae: 0.2312 - lr: 1.2589e-06\n",
            "Epoch 44/64\n",
            "387/387 [==============================] - 36s 93ms/step - loss: 0.0571 - mae: 0.2298 - lr: 1.4125e-06\n",
            "Epoch 45/64\n",
            "387/387 [==============================] - 36s 93ms/step - loss: 0.0564 - mae: 0.2288 - lr: 1.5849e-06\n",
            "Epoch 46/64\n",
            "387/387 [==============================] - 36s 93ms/step - loss: 0.0555 - mae: 0.2269 - lr: 1.7783e-06\n",
            "Epoch 47/64\n",
            "387/387 [==============================] - 36s 93ms/step - loss: 0.0546 - mae: 0.2254 - lr: 1.9953e-06\n",
            "Epoch 48/64\n",
            "387/387 [==============================] - 36s 93ms/step - loss: 0.0538 - mae: 0.2235 - lr: 2.2387e-06\n",
            "Epoch 49/64\n",
            "387/387 [==============================] - 36s 93ms/step - loss: 0.0530 - mae: 0.2222 - lr: 2.5119e-06\n",
            "Epoch 50/64\n",
            "387/387 [==============================] - 36s 93ms/step - loss: 0.0521 - mae: 0.2204 - lr: 2.8184e-06\n",
            "Epoch 51/64\n",
            "387/387 [==============================] - 36s 93ms/step - loss: 0.0512 - mae: 0.2187 - lr: 3.1623e-06\n",
            "Epoch 52/64\n",
            "387/387 [==============================] - 36s 94ms/step - loss: 0.0503 - mae: 0.2167 - lr: 3.5481e-06\n",
            "Epoch 53/64\n",
            "387/387 [==============================] - 36s 93ms/step - loss: 0.0495 - mae: 0.2152 - lr: 3.9811e-06\n",
            "Epoch 54/64\n",
            "387/387 [==============================] - 36s 94ms/step - loss: 0.0487 - mae: 0.2141 - lr: 4.4668e-06\n",
            "Epoch 55/64\n",
            "387/387 [==============================] - 36s 93ms/step - loss: 0.0480 - mae: 0.2127 - lr: 5.0119e-06\n",
            "Epoch 56/64\n",
            "387/387 [==============================] - 36s 93ms/step - loss: 0.0474 - mae: 0.2116 - lr: 5.6234e-06\n",
            "Epoch 57/64\n",
            "387/387 [==============================] - 36s 93ms/step - loss: 0.0527 - mae: 0.2320 - lr: 6.3096e-06\n",
            "Epoch 58/64\n",
            "387/387 [==============================] - 36s 94ms/step - loss: 0.0700 - mae: 0.2690 - lr: 7.0795e-06\n",
            "Epoch 59/64\n",
            "387/387 [==============================] - 36s 93ms/step - loss: 0.0818 - mae: 0.2908 - lr: 7.9433e-06\n",
            "Epoch 60/64\n",
            "387/387 [==============================] - 36s 93ms/step - loss: 0.0653 - mae: 0.2475 - lr: 8.9125e-06\n",
            "Epoch 61/64\n",
            "387/387 [==============================] - 36s 93ms/step - loss: 0.1758 - mae: 0.4921 - lr: 1.0000e-05\n",
            "Epoch 62/64\n",
            "387/387 [==============================] - 36s 93ms/step - loss: 0.3025 - mae: 0.7143 - lr: 1.1220e-05\n",
            "Epoch 63/64\n",
            "387/387 [==============================] - 36s 93ms/step - loss: 2.4008 - mae: 2.8904 - lr: 1.2589e-05\n",
            "Epoch 64/64\n",
            "387/387 [==============================] - 36s 94ms/step - loss: 2.4224 - mae: 2.9214 - lr: 1.4125e-05\n"
          ],
          "name": "stdout"
        }
      ]
    },
    {
      "cell_type": "code",
      "metadata": {
        "id": "PtYnmPfJxFUx",
        "colab_type": "code",
        "colab": {
          "base_uri": "https://localhost:8080/",
          "height": 287
        },
        "outputId": "c7e798d7-f537-4bfd-e658-41c7fb41c660"
      },
      "source": [
        "plt.semilogx(history.history[\"lr\"], history.history[\"loss\"])\n"
      ],
      "execution_count": 24,
      "outputs": [
        {
          "output_type": "execute_result",
          "data": {
            "text/plain": [
              "[<matplotlib.lines.Line2D at 0x7f6cb2dcb4a8>]"
            ]
          },
          "metadata": {
            "tags": []
          },
          "execution_count": 24
        },
        {
          "output_type": "display_data",
          "data": {
            "image/png": "[encoded data removed]",
            "text/plain": [
              "<Figure size 432x288 with 1 Axes>"
            ]
          },
          "metadata": {
            "tags": [],
            "needs_background": "light"
          }
        }
      ]
    },
    {
      "cell_type": "code",
      "metadata": {
        "id": "AFcFO1X0xG1M",
        "colab_type": "code",
        "colab": {}
      },
      "source": [
        "rnn_forecast = model_forecast(model, series[..., np.newaxis], window_size)\n",
        "rnn_forecast = rnn_forecast[split_time - window_size:-1, -1, 0]"
      ],
      "execution_count": 0,
      "outputs": []
    },
    {
      "cell_type": "code",
      "metadata": {
        "id": "w59QYow26bEx",
        "colab_type": "code",
        "colab": {
          "base_uri": "https://localhost:8080/",
          "height": 388
        },
        "outputId": "54c7dd05-d8fe-4a19-ed24-35c1f2f989bb"
      },
      "source": [
        "plt.figure(figsize=(10, 6))\n",
        "plot_series(time_valid, x_valid)\n",
        "plot_series(time_valid, rnn_forecast)"
      ],
      "execution_count": 105,
      "outputs": [
        {
          "output_type": "display_data",
          "data": {
            "image/png": "[encoded data removed]",
            "text/plain": [
              "<Figure size 720x432 with 1 Axes>"
            ]
          },
          "metadata": {
            "tags": [],
            "needs_background": "light"
          }
        }
      ]
    },
    {
      "cell_type": "code",
      "metadata": {
        "id": "vbK8apehxHxD",
        "colab_type": "code",
        "colab": {
          "base_uri": "https://localhost:8080/",
          "height": 34
        },
        "outputId": "efe60f8d-0c98-4b5b-8ba5-7344317b6935"
      },
      "source": [
        "tf.keras.metrics.mean_absolute_error(x_valid, rnn_forecast).numpy()"
      ],
      "execution_count": 106,
      "outputs": [
        {
          "output_type": "execute_result",
          "data": {
            "text/plain": [
              "1.5868328"
            ]
          },
          "metadata": {
            "tags": []
          },
          "execution_count": 106
        }
      ]
    },
    {
      "cell_type": "code",
      "metadata": {
        "id": "o3oPrCiVxI1m",
        "colab_type": "code",
        "colab": {}
      },
      "source": [
        "try:\n",
        "  model.save_weights(\"/content/drive/My Drive/model.h5\")\n",
        "except:\n",
        "  print(\"Model not saved\")"
      ],
      "execution_count": 0,
      "outputs": []
    },
    {
      "cell_type": "code",
      "metadata": {
        "id": "l3owfpj2zjGX",
        "colab_type": "code",
        "colab": {}
      },
      "source": [
        ""
      ],
      "execution_count": 0,
      "outputs": []
    },
    {
      "cell_type": "code",
      "metadata": {
        "id": "e55L_7xA5U0w",
        "colab_type": "code",
        "colab": {}
      },
      "source": [
        ""
      ],
      "execution_count": 0,
      "outputs": []
    },
    {
      "cell_type": "code",
      "metadata": {
        "id": "FiVRjwtl5U4P",
        "colab_type": "code",
        "colab": {}
      },
      "source": [
        "test_data = pd.read_csv('/content/drive/My Drive/testing.csv')"
      ],
      "execution_count": 0,
      "outputs": []
    },
    {
      "cell_type": "code",
      "metadata": {
        "id": "4vTgGxlq5Zhb",
        "colab_type": "code",
        "colab": {}
      },
      "source": [
        "df2 = test_data[test_data.columns[1:]]"
      ],
      "execution_count": 0,
      "outputs": []
    },
    {
      "cell_type": "code",
      "metadata": {
        "id": "-JVa063L5jhL",
        "colab_type": "code",
        "colab": {}
      },
      "source": [
        "input_values=df2['length']"
      ],
      "execution_count": 0,
      "outputs": []
    },
    {
      "cell_type": "code",
      "metadata": {
        "id": "n090OJ045rMc",
        "colab_type": "code",
        "colab": {}
      },
      "source": [
        "input_values = input_values[:30000]"
      ],
      "execution_count": 0,
      "outputs": []
    },
    {
      "cell_type": "code",
      "metadata": {
        "id": "kvamWUjI5wvN",
        "colab_type": "code",
        "colab": {}
      },
      "source": [
        "time_step = np.arange(30000)\n"
      ],
      "execution_count": 0,
      "outputs": []
    },
    {
      "cell_type": "code",
      "metadata": {
        "id": "3tnY_BoA50DX",
        "colab_type": "code",
        "colab": {}
      },
      "source": [
        "series = np.array(input_values)\n",
        "time = np.array(time_step)"
      ],
      "execution_count": 0,
      "outputs": []
    },
    {
      "cell_type": "code",
      "metadata": {
        "id": "CfQHbCS484Ih",
        "colab_type": "code",
        "colab": {}
      },
      "source": [
        "series = series/(np.max(series)-np.min(series))"
      ],
      "execution_count": 0,
      "outputs": []
    },
    {
      "cell_type": "code",
      "metadata": {
        "id": "eZH_dIHz52wG",
        "colab_type": "code",
        "colab": {}
      },
      "source": [
        "split_time = 25000\n",
        "time_train = time[:split_time]\n",
        "x_train = series[:split_time]\n",
        "time_valid = time[split_time:]\n",
        "x_valid = series[split_time:]\n",
        "\n",
        "window_size = 512\n",
        "batch_size = 64\n",
        "shuffle_buffer_size = 784"
      ],
      "execution_count": 0,
      "outputs": []
    },
    {
      "cell_type": "code",
      "metadata": {
        "id": "10qKBs-I6Jdx",
        "colab_type": "code",
        "colab": {}
      },
      "source": [
        "rnn_forecast = model_forecast(model, series[..., np.newaxis], window_size)\n",
        "rnn_forecast = rnn_forecast[split_time - window_size:-1, -1, 0]"
      ],
      "execution_count": 0,
      "outputs": []
    },
    {
      "cell_type": "code",
      "metadata": {
        "id": "CUZGM3qW6jCL",
        "colab_type": "code",
        "colab": {
          "base_uri": "https://localhost:8080/",
          "height": 388
        },
        "outputId": "d526a0b5-afba-437c-a641-12ad6c5e275c"
      },
      "source": [
        "plt.figure(figsize=(10, 6))\n",
        "plot_series(time_valid, x_valid)\n",
        "plot_series(time_valid, rnn_forecast)"
      ],
      "execution_count": 116,
      "outputs": [
        {
          "output_type": "display_data",
          "data": {
            "image/png": "[encoded data removed]",
            "text/plain": [
              "<Figure size 720x432 with 1 Axes>"
            ]
          },
          "metadata": {
            "tags": [],
            "needs_background": "light"
          }
        }
      ]
    },
    {
      "cell_type": "code",
      "metadata": {
        "id": "bq9QBSIF63QG",
        "colab_type": "code",
        "colab": {
          "base_uri": "https://localhost:8080/",
          "height": 34
        },
        "outputId": "a36ea77e-1edf-4f6a-e6f5-e41fb2a98fba"
      },
      "source": [
        "tf.keras.metrics.mean_absolute_error(x_valid, rnn_forecast).numpy()"
      ],
      "execution_count": 118,
      "outputs": [
        {
          "output_type": "execute_result",
          "data": {
            "text/plain": [
              "1.4172442"
            ]
          },
          "metadata": {
            "tags": []
          },
          "execution_count": 118
        }
      ]
    },
    {
      "cell_type": "code",
      "metadata": {
        "id": "L8-JLoOY7BkS",
        "colab_type": "code",
        "colab": {}
      },
      "source": [
        ""
      ],
      "execution_count": 0,
      "outputs": []
    }
  ]
}